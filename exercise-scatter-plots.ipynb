{
 "cells": [
  {
   "cell_type": "markdown",
   "id": "9a2b7ec5",
   "metadata": {
    "papermill": {
     "duration": 0.010094,
     "end_time": "2022-09-29T11:10:30.831387",
     "exception": false,
     "start_time": "2022-09-29T11:10:30.821293",
     "status": "completed"
    },
    "tags": []
   },
   "source": [
    "**This notebook is an exercise in the [Data Visualization](https://www.kaggle.com/learn/data-visualization) course.  You can reference the tutorial at [this link](https://www.kaggle.com/alexisbcook/scatter-plots).**\n",
    "\n",
    "---\n"
   ]
  },
  {
   "cell_type": "markdown",
   "id": "ce95f2bf",
   "metadata": {
    "papermill": {
     "duration": 0.008791,
     "end_time": "2022-09-29T11:10:30.849207",
     "exception": false,
     "start_time": "2022-09-29T11:10:30.840416",
     "status": "completed"
    },
    "tags": []
   },
   "source": [
    "In this exercise, you will use your new knowledge to propose a solution to a real-world scenario.  To succeed, you will need to import data into Python, answer questions using the data, and generate **scatter plots** to understand patterns in the data.\n",
    "\n",
    "## Scenario\n",
    "\n",
    "You work for a major candy producer, and your goal is to write a report that your company can use to guide the design of its next product.  Soon after starting your research, you stumble across this [very interesting dataset](https://fivethirtyeight.com/features/the-ultimate-halloween-candy-power-ranking/) containing results from a fun survey to crowdsource favorite candies.\n",
    "\n",
    "## Setup\n",
    "\n",
    "Run the next cell to import and configure the Python libraries that you need to complete the exercise."
   ]
  },
  {
   "cell_type": "code",
   "execution_count": 1,
   "id": "7a8aa980",
   "metadata": {
    "execution": {
     "iopub.execute_input": "2022-09-29T11:10:30.868399Z",
     "iopub.status.busy": "2022-09-29T11:10:30.867904Z",
     "iopub.status.idle": "2022-09-29T11:10:31.999597Z",
     "shell.execute_reply": "2022-09-29T11:10:31.997886Z"
    },
    "papermill": {
     "duration": 1.144397,
     "end_time": "2022-09-29T11:10:32.002228",
     "exception": false,
     "start_time": "2022-09-29T11:10:30.857831",
     "status": "completed"
    },
    "tags": []
   },
   "outputs": [
    {
     "name": "stdout",
     "output_type": "stream",
     "text": [
      "Setup Complete\n"
     ]
    }
   ],
   "source": [
    "import pandas as pd\n",
    "pd.plotting.register_matplotlib_converters()\n",
    "import matplotlib.pyplot as plt\n",
    "%matplotlib inline\n",
    "import seaborn as sns\n",
    "print(\"Setup Complete\")"
   ]
  },
  {
   "cell_type": "markdown",
   "id": "3b4ebf4b",
   "metadata": {
    "papermill": {
     "duration": 0.008111,
     "end_time": "2022-09-29T11:10:32.019138",
     "exception": false,
     "start_time": "2022-09-29T11:10:32.011027",
     "status": "completed"
    },
    "tags": []
   },
   "source": [
    "The questions below will give you feedback on your work. Run the following cell to set up our feedback system."
   ]
  },
  {
   "cell_type": "code",
   "execution_count": 2,
   "id": "726d8577",
   "metadata": {
    "execution": {
     "iopub.execute_input": "2022-09-29T11:10:32.038046Z",
     "iopub.status.busy": "2022-09-29T11:10:32.037647Z",
     "iopub.status.idle": "2022-09-29T11:10:32.107737Z",
     "shell.execute_reply": "2022-09-29T11:10:32.106122Z"
    },
    "papermill": {
     "duration": 0.08274,
     "end_time": "2022-09-29T11:10:32.110248",
     "exception": false,
     "start_time": "2022-09-29T11:10:32.027508",
     "status": "completed"
    },
    "tags": []
   },
   "outputs": [
    {
     "name": "stdout",
     "output_type": "stream",
     "text": [
      "Setup Complete\n"
     ]
    }
   ],
   "source": [
    "# Set up code checking\n",
    "import os\n",
    "if not os.path.exists(\"../input/candy.csv\"):\n",
    "    os.symlink(\"../input/data-for-datavis/candy.csv\", \"../input/candy.csv\") \n",
    "from learntools.core import binder\n",
    "binder.bind(globals())\n",
    "from learntools.data_viz_to_coder.ex4 import *\n",
    "print(\"Setup Complete\")"
   ]
  },
  {
   "cell_type": "markdown",
   "id": "6406514c",
   "metadata": {
    "papermill": {
     "duration": 0.008058,
     "end_time": "2022-09-29T11:10:32.128165",
     "exception": false,
     "start_time": "2022-09-29T11:10:32.120107",
     "status": "completed"
    },
    "tags": []
   },
   "source": [
    "## Step 1: Load the Data\n",
    "\n",
    "Read the candy data file into `candy_data`.  Use the `\"id\"` column to label the rows."
   ]
  },
  {
   "cell_type": "code",
   "execution_count": 3,
   "id": "c15ff8ee",
   "metadata": {
    "execution": {
     "iopub.execute_input": "2022-09-29T11:10:32.147364Z",
     "iopub.status.busy": "2022-09-29T11:10:32.146160Z",
     "iopub.status.idle": "2022-09-29T11:10:32.161639Z",
     "shell.execute_reply": "2022-09-29T11:10:32.160520Z"
    },
    "papermill": {
     "duration": 0.027039,
     "end_time": "2022-09-29T11:10:32.163717",
     "exception": false,
     "start_time": "2022-09-29T11:10:32.136678",
     "status": "completed"
    },
    "tags": []
   },
   "outputs": [
    {
     "data": {
      "application/javascript": [
       "parent.postMessage({\"jupyterEvent\": \"custom.exercise_interaction\", \"data\": {\"outcomeType\": 1, \"valueTowardsCompletion\": 0.3333333333333333, \"interactionType\": 1, \"questionType\": 1, \"questionId\": \"1_LoadData\", \"learnToolsVersion\": \"0.3.4\", \"failureMessage\": \"\", \"exceptionClass\": \"\", \"trace\": \"\"}}, \"*\")"
      ],
      "text/plain": [
       "<IPython.core.display.Javascript object>"
      ]
     },
     "metadata": {},
     "output_type": "display_data"
    },
    {
     "data": {
      "text/markdown": [
       "<span style=\"color:#33cc33\">Correct</span>"
      ],
      "text/plain": [
       "Correct"
      ]
     },
     "metadata": {},
     "output_type": "display_data"
    }
   ],
   "source": [
    "# Path of the file to read\n",
    "candy_filepath = \"../input/candy.csv\"\n",
    "\n",
    "# Fill in the line below to read the file into a variable candy_data\n",
    "candy_data = pd.read_csv(candy_filepath, index_col=\"id\")\n",
    "\n",
    "# Run the line below with no changes to check that you've loaded the data correctly\n",
    "step_1.check()"
   ]
  },
  {
   "cell_type": "code",
   "execution_count": 4,
   "id": "1255cca3",
   "metadata": {
    "execution": {
     "iopub.execute_input": "2022-09-29T11:10:32.182828Z",
     "iopub.status.busy": "2022-09-29T11:10:32.181783Z",
     "iopub.status.idle": "2022-09-29T11:10:32.186633Z",
     "shell.execute_reply": "2022-09-29T11:10:32.185825Z"
    },
    "papermill": {
     "duration": 0.01653,
     "end_time": "2022-09-29T11:10:32.188708",
     "exception": false,
     "start_time": "2022-09-29T11:10:32.172178",
     "status": "completed"
    },
    "tags": []
   },
   "outputs": [],
   "source": [
    "# Lines below will give you a hint or solution code\n",
    "#step_1.hint()\n",
    "#step_1.solution()"
   ]
  },
  {
   "cell_type": "markdown",
   "id": "0eb5ca23",
   "metadata": {
    "papermill": {
     "duration": 0.008215,
     "end_time": "2022-09-29T11:10:32.205519",
     "exception": false,
     "start_time": "2022-09-29T11:10:32.197304",
     "status": "completed"
    },
    "tags": []
   },
   "source": [
    "## Step 2: Review the data\n",
    "\n",
    "Use a Python command to print the first five rows of the data."
   ]
  },
  {
   "cell_type": "code",
   "execution_count": 5,
   "id": "6248e379",
   "metadata": {
    "execution": {
     "iopub.execute_input": "2022-09-29T11:10:32.225012Z",
     "iopub.status.busy": "2022-09-29T11:10:32.224356Z",
     "iopub.status.idle": "2022-09-29T11:10:32.246063Z",
     "shell.execute_reply": "2022-09-29T11:10:32.244852Z"
    },
    "papermill": {
     "duration": 0.034143,
     "end_time": "2022-09-29T11:10:32.248424",
     "exception": false,
     "start_time": "2022-09-29T11:10:32.214281",
     "status": "completed"
    },
    "tags": []
   },
   "outputs": [
    {
     "data": {
      "text/html": [
       "<div>\n",
       "<style scoped>\n",
       "    .dataframe tbody tr th:only-of-type {\n",
       "        vertical-align: middle;\n",
       "    }\n",
       "\n",
       "    .dataframe tbody tr th {\n",
       "        vertical-align: top;\n",
       "    }\n",
       "\n",
       "    .dataframe thead th {\n",
       "        text-align: right;\n",
       "    }\n",
       "</style>\n",
       "<table border=\"1\" class=\"dataframe\">\n",
       "  <thead>\n",
       "    <tr style=\"text-align: right;\">\n",
       "      <th></th>\n",
       "      <th>competitorname</th>\n",
       "      <th>chocolate</th>\n",
       "      <th>fruity</th>\n",
       "      <th>caramel</th>\n",
       "      <th>peanutyalmondy</th>\n",
       "      <th>nougat</th>\n",
       "      <th>crispedricewafer</th>\n",
       "      <th>hard</th>\n",
       "      <th>bar</th>\n",
       "      <th>pluribus</th>\n",
       "      <th>sugarpercent</th>\n",
       "      <th>pricepercent</th>\n",
       "      <th>winpercent</th>\n",
       "    </tr>\n",
       "    <tr>\n",
       "      <th>id</th>\n",
       "      <th></th>\n",
       "      <th></th>\n",
       "      <th></th>\n",
       "      <th></th>\n",
       "      <th></th>\n",
       "      <th></th>\n",
       "      <th></th>\n",
       "      <th></th>\n",
       "      <th></th>\n",
       "      <th></th>\n",
       "      <th></th>\n",
       "      <th></th>\n",
       "      <th></th>\n",
       "    </tr>\n",
       "  </thead>\n",
       "  <tbody>\n",
       "    <tr>\n",
       "      <th>0</th>\n",
       "      <td>100 Grand</td>\n",
       "      <td>Yes</td>\n",
       "      <td>No</td>\n",
       "      <td>Yes</td>\n",
       "      <td>No</td>\n",
       "      <td>No</td>\n",
       "      <td>Yes</td>\n",
       "      <td>No</td>\n",
       "      <td>Yes</td>\n",
       "      <td>No</td>\n",
       "      <td>0.732</td>\n",
       "      <td>0.860</td>\n",
       "      <td>66.971725</td>\n",
       "    </tr>\n",
       "    <tr>\n",
       "      <th>1</th>\n",
       "      <td>3 Musketeers</td>\n",
       "      <td>Yes</td>\n",
       "      <td>No</td>\n",
       "      <td>No</td>\n",
       "      <td>No</td>\n",
       "      <td>Yes</td>\n",
       "      <td>No</td>\n",
       "      <td>No</td>\n",
       "      <td>Yes</td>\n",
       "      <td>No</td>\n",
       "      <td>0.604</td>\n",
       "      <td>0.511</td>\n",
       "      <td>67.602936</td>\n",
       "    </tr>\n",
       "    <tr>\n",
       "      <th>2</th>\n",
       "      <td>Air Heads</td>\n",
       "      <td>No</td>\n",
       "      <td>Yes</td>\n",
       "      <td>No</td>\n",
       "      <td>No</td>\n",
       "      <td>No</td>\n",
       "      <td>No</td>\n",
       "      <td>No</td>\n",
       "      <td>No</td>\n",
       "      <td>No</td>\n",
       "      <td>0.906</td>\n",
       "      <td>0.511</td>\n",
       "      <td>52.341465</td>\n",
       "    </tr>\n",
       "    <tr>\n",
       "      <th>3</th>\n",
       "      <td>Almond Joy</td>\n",
       "      <td>Yes</td>\n",
       "      <td>No</td>\n",
       "      <td>No</td>\n",
       "      <td>Yes</td>\n",
       "      <td>No</td>\n",
       "      <td>No</td>\n",
       "      <td>No</td>\n",
       "      <td>Yes</td>\n",
       "      <td>No</td>\n",
       "      <td>0.465</td>\n",
       "      <td>0.767</td>\n",
       "      <td>50.347546</td>\n",
       "    </tr>\n",
       "    <tr>\n",
       "      <th>4</th>\n",
       "      <td>Baby Ruth</td>\n",
       "      <td>Yes</td>\n",
       "      <td>No</td>\n",
       "      <td>Yes</td>\n",
       "      <td>Yes</td>\n",
       "      <td>Yes</td>\n",
       "      <td>No</td>\n",
       "      <td>No</td>\n",
       "      <td>Yes</td>\n",
       "      <td>No</td>\n",
       "      <td>0.604</td>\n",
       "      <td>0.767</td>\n",
       "      <td>56.914547</td>\n",
       "    </tr>\n",
       "  </tbody>\n",
       "</table>\n",
       "</div>"
      ],
      "text/plain": [
       "   competitorname chocolate fruity caramel peanutyalmondy nougat  \\\n",
       "id                                                                 \n",
       "0       100 Grand       Yes     No     Yes             No     No   \n",
       "1    3 Musketeers       Yes     No      No             No    Yes   \n",
       "2       Air Heads        No    Yes      No             No     No   \n",
       "3      Almond Joy       Yes     No      No            Yes     No   \n",
       "4       Baby Ruth       Yes     No     Yes            Yes    Yes   \n",
       "\n",
       "   crispedricewafer hard  bar pluribus  sugarpercent  pricepercent  winpercent  \n",
       "id                                                                              \n",
       "0               Yes   No  Yes       No         0.732         0.860   66.971725  \n",
       "1                No   No  Yes       No         0.604         0.511   67.602936  \n",
       "2                No   No   No       No         0.906         0.511   52.341465  \n",
       "3                No   No  Yes       No         0.465         0.767   50.347546  \n",
       "4                No   No  Yes       No         0.604         0.767   56.914547  "
      ]
     },
     "execution_count": 5,
     "metadata": {},
     "output_type": "execute_result"
    }
   ],
   "source": [
    "# Print the first five rows of the data\n",
    "candy_data.head()"
   ]
  },
  {
   "cell_type": "markdown",
   "id": "4ba597c0",
   "metadata": {
    "papermill": {
     "duration": 0.008671,
     "end_time": "2022-09-29T11:10:32.266107",
     "exception": false,
     "start_time": "2022-09-29T11:10:32.257436",
     "status": "completed"
    },
    "tags": []
   },
   "source": [
    "The dataset contains 83 rows, where each corresponds to a different candy bar.  There are 13 columns:\n",
    "- `'competitorname'` contains the name of the candy bar. \n",
    "- the next **9** columns (from `'chocolate'` to `'pluribus'`) describe the candy.  For instance, rows with chocolate candies have `\"Yes\"` in the `'chocolate'` column (and candies without chocolate have `\"No\"` in the same column).\n",
    "- `'sugarpercent'` provides some indication of the amount of sugar, where higher values signify higher sugar content.\n",
    "- `'pricepercent'` shows the price per unit, relative to the other candies in the dataset.\n",
    "- `'winpercent'` is calculated from the survey results; higher values indicate that the candy was more popular with survey respondents.\n",
    "\n",
    "Use the first five rows of the data to answer the questions below."
   ]
  },
  {
   "cell_type": "code",
   "execution_count": 6,
   "id": "ae664fb0",
   "metadata": {
    "execution": {
     "iopub.execute_input": "2022-09-29T11:10:32.285650Z",
     "iopub.status.busy": "2022-09-29T11:10:32.285210Z",
     "iopub.status.idle": "2022-09-29T11:10:32.294664Z",
     "shell.execute_reply": "2022-09-29T11:10:32.293798Z"
    },
    "papermill": {
     "duration": 0.02184,
     "end_time": "2022-09-29T11:10:32.296854",
     "exception": false,
     "start_time": "2022-09-29T11:10:32.275014",
     "status": "completed"
    },
    "tags": []
   },
   "outputs": [
    {
     "data": {
      "application/javascript": [
       "parent.postMessage({\"jupyterEvent\": \"custom.exercise_interaction\", \"data\": {\"outcomeType\": 1, \"valueTowardsCompletion\": 0.3333333333333333, \"interactionType\": 1, \"questionType\": 1, \"questionId\": \"2_ReviewData\", \"learnToolsVersion\": \"0.3.4\", \"failureMessage\": \"\", \"exceptionClass\": \"\", \"trace\": \"\"}}, \"*\")"
      ],
      "text/plain": [
       "<IPython.core.display.Javascript object>"
      ]
     },
     "metadata": {},
     "output_type": "display_data"
    },
    {
     "data": {
      "text/markdown": [
       "<span style=\"color:#33cc33\">Correct</span>"
      ],
      "text/plain": [
       "Correct"
      ]
     },
     "metadata": {},
     "output_type": "display_data"
    }
   ],
   "source": [
    "# Fill in the line below: Which candy was more popular with survey respondents:\n",
    "# '3 Musketeers' or 'Almond Joy'?  (Please enclose your answer in single quotes.)\n",
    "more_popular = '3 Musketeers'\n",
    "\n",
    "# Fill in the line below: Which candy has higher sugar content: 'Air Heads'\n",
    "# or 'Baby Ruth'? (Please enclose your answer in single quotes.)\n",
    "more_sugar = 'Air Heads'\n",
    "\n",
    "# Check your answers\n",
    "step_2.check()"
   ]
  },
  {
   "cell_type": "code",
   "execution_count": 7,
   "id": "96271a85",
   "metadata": {
    "execution": {
     "iopub.execute_input": "2022-09-29T11:10:32.318181Z",
     "iopub.status.busy": "2022-09-29T11:10:32.317040Z",
     "iopub.status.idle": "2022-09-29T11:10:32.321734Z",
     "shell.execute_reply": "2022-09-29T11:10:32.320807Z"
    },
    "papermill": {
     "duration": 0.017707,
     "end_time": "2022-09-29T11:10:32.324050",
     "exception": false,
     "start_time": "2022-09-29T11:10:32.306343",
     "status": "completed"
    },
    "tags": []
   },
   "outputs": [],
   "source": [
    "# Lines below will give you a hint or solution code\n",
    "#step_2.hint()\n",
    "#step_2.solution()"
   ]
  },
  {
   "cell_type": "markdown",
   "id": "f907a81e",
   "metadata": {
    "papermill": {
     "duration": 0.009019,
     "end_time": "2022-09-29T11:10:32.342582",
     "exception": false,
     "start_time": "2022-09-29T11:10:32.333563",
     "status": "completed"
    },
    "tags": []
   },
   "source": [
    "## Step 3: The role of sugar\n",
    "\n",
    "Do people tend to prefer candies with higher sugar content?  \n",
    "\n",
    "#### Part A\n",
    "\n",
    "Create a scatter plot that shows the relationship between `'sugarpercent'` (on the horizontal x-axis) and `'winpercent'` (on the vertical y-axis).  _Don't add a regression line just yet -- you'll do that in the next step!_"
   ]
  },
  {
   "cell_type": "code",
   "execution_count": 8,
   "id": "a28fadfd",
   "metadata": {
    "execution": {
     "iopub.execute_input": "2022-09-29T11:10:32.363721Z",
     "iopub.status.busy": "2022-09-29T11:10:32.362925Z",
     "iopub.status.idle": "2022-09-29T11:10:32.611344Z",
     "shell.execute_reply": "2022-09-29T11:10:32.610204Z"
    },
    "papermill": {
     "duration": 0.261659,
     "end_time": "2022-09-29T11:10:32.613716",
     "exception": false,
     "start_time": "2022-09-29T11:10:32.352057",
     "status": "completed"
    },
    "tags": []
   },
   "outputs": [
    {
     "data": {
      "application/javascript": [
       "parent.postMessage({\"jupyterEvent\": \"custom.exercise_interaction\", \"data\": {\"outcomeType\": 1, \"valueTowardsCompletion\": 0.3333333333333333, \"interactionType\": 1, \"questionType\": 2, \"questionId\": \"3.1_PlotBlueScatter\", \"learnToolsVersion\": \"0.3.4\", \"failureMessage\": \"\", \"exceptionClass\": \"\", \"trace\": \"\"}}, \"*\")"
      ],
      "text/plain": [
       "<IPython.core.display.Javascript object>"
      ]
     },
     "metadata": {},
     "output_type": "display_data"
    },
    {
     "data": {
      "text/markdown": [
       "<span style=\"color:#33cc33\">Correct</span>"
      ],
      "text/plain": [
       "Correct"
      ]
     },
     "metadata": {},
     "output_type": "display_data"
    },
    {
     "data": {
      "image/png": "[encoded data removed]",
      "text/plain": [
       "<Figure size 432x288 with 1 Axes>"
      ]
     },
     "metadata": {
      "needs_background": "light"
     },
     "output_type": "display_data"
    }
   ],
   "source": [
    "# Scatter plot showing the relationship between 'sugarpercent' and 'winpercent'\n",
    "sns.scatterplot(x=candy_data['sugarpercent'],y=candy_data['winpercent'])\n",
    "\n",
    "# Check your answer\n",
    "step_3.a.check()"
   ]
  },
  {
   "cell_type": "code",
   "execution_count": 9,
   "id": "6133975a",
   "metadata": {
    "execution": {
     "iopub.execute_input": "2022-09-29T11:10:32.635403Z",
     "iopub.status.busy": "2022-09-29T11:10:32.634469Z",
     "iopub.status.idle": "2022-09-29T11:10:32.639337Z",
     "shell.execute_reply": "2022-09-29T11:10:32.638510Z"
    },
    "papermill": {
     "duration": 0.017987,
     "end_time": "2022-09-29T11:10:32.641554",
     "exception": false,
     "start_time": "2022-09-29T11:10:32.623567",
     "status": "completed"
    },
    "tags": []
   },
   "outputs": [],
   "source": [
    "# Lines below will give you a hint or solution code\n",
    "#step_3.a.hint()\n",
    "#step_3.a.solution_plot()"
   ]
  },
  {
   "cell_type": "markdown",
   "id": "c64926d2",
   "metadata": {
    "papermill": {
     "duration": 0.00945,
     "end_time": "2022-09-29T11:10:32.661230",
     "exception": false,
     "start_time": "2022-09-29T11:10:32.651780",
     "status": "completed"
    },
    "tags": []
   },
   "source": [
    "#### Part B\n",
    "\n",
    "Does the scatter plot show a **strong** correlation between the two variables?  If so, are candies with more sugar relatively more or less popular with the survey respondents?"
   ]
  },
  {
   "cell_type": "code",
   "execution_count": 10,
   "id": "a1ab2374",
   "metadata": {
    "execution": {
     "iopub.execute_input": "2022-09-29T11:10:32.682791Z",
     "iopub.status.busy": "2022-09-29T11:10:32.681995Z",
     "iopub.status.idle": "2022-09-29T11:10:32.686991Z",
     "shell.execute_reply": "2022-09-29T11:10:32.686087Z"
    },
    "papermill": {
     "duration": 0.01815,
     "end_time": "2022-09-29T11:10:32.689125",
     "exception": false,
     "start_time": "2022-09-29T11:10:32.670975",
     "status": "completed"
    },
    "tags": []
   },
   "outputs": [],
   "source": [
    "#step_3.b.hint()"
   ]
  },
  {
   "cell_type": "code",
   "execution_count": 11,
   "id": "aabcd6da",
   "metadata": {
    "execution": {
     "iopub.execute_input": "2022-09-29T11:10:32.710677Z",
     "iopub.status.busy": "2022-09-29T11:10:32.709923Z",
     "iopub.status.idle": "2022-09-29T11:10:32.718644Z",
     "shell.execute_reply": "2022-09-29T11:10:32.717816Z"
    },
    "papermill": {
     "duration": 0.021862,
     "end_time": "2022-09-29T11:10:32.720792",
     "exception": false,
     "start_time": "2022-09-29T11:10:32.698930",
     "status": "completed"
    },
    "tags": []
   },
   "outputs": [
    {
     "data": {
      "application/javascript": [
       "parent.postMessage({\"jupyterEvent\": \"custom.exercise_interaction\", \"data\": {\"interactionType\": 3, \"questionType\": 4, \"questionId\": \"3.2_ThinkBlueScatter\", \"learnToolsVersion\": \"0.3.4\", \"valueTowardsCompletion\": 0.0, \"failureMessage\": \"\", \"exceptionClass\": \"\", \"trace\": \"\", \"outcomeType\": 4}}, \"*\")"
      ],
      "text/plain": [
       "<IPython.core.display.Javascript object>"
      ]
     },
     "metadata": {},
     "output_type": "display_data"
    },
    {
     "data": {
      "text/markdown": [
       "<span style=\"color:#33cc99\">Solution:</span> The scatter plot does not show a strong correlation between the two variables. Since there is no clear relationship between the two variables, this tells us that sugar content does not play a strong role in candy popularity."
      ],
      "text/plain": [
       "Solution: The scatter plot does not show a strong correlation between the two variables. Since there is no clear relationship between the two variables, this tells us that sugar content does not play a strong role in candy popularity."
      ]
     },
     "metadata": {},
     "output_type": "display_data"
    }
   ],
   "source": [
    "# Check your answer (Run this code cell to receive credit!)\n",
    "step_3.b.solution()"
   ]
  },
  {
   "cell_type": "markdown",
   "id": "4fc9e4bb",
   "metadata": {
    "papermill": {
     "duration": 0.009683,
     "end_time": "2022-09-29T11:10:32.741109",
     "exception": false,
     "start_time": "2022-09-29T11:10:32.731426",
     "status": "completed"
    },
    "tags": []
   },
   "source": [
    "## Step 4: Take a closer look\n",
    "\n",
    "#### Part A\n",
    "\n",
    "Create the same scatter plot you created in **Step 3**, but now with a regression line!"
   ]
  },
  {
   "cell_type": "code",
   "execution_count": 12,
   "id": "5bda91e1",
   "metadata": {
    "execution": {
     "iopub.execute_input": "2022-09-29T11:10:32.767516Z",
     "iopub.status.busy": "2022-09-29T11:10:32.767020Z",
     "iopub.status.idle": "2022-09-29T11:10:33.080591Z",
     "shell.execute_reply": "2022-09-29T11:10:33.079457Z"
    },
    "papermill": {
     "duration": 0.329365,
     "end_time": "2022-09-29T11:10:33.082897",
     "exception": false,
     "start_time": "2022-09-29T11:10:32.753532",
     "status": "completed"
    },
    "tags": []
   },
   "outputs": [
    {
     "data": {
      "application/javascript": [
       "parent.postMessage({\"jupyterEvent\": \"custom.exercise_interaction\", \"data\": {\"outcomeType\": 1, \"valueTowardsCompletion\": 0.3333333333333333, \"interactionType\": 1, \"questionType\": 2, \"questionId\": \"4.1_PlotBlueReg\", \"learnToolsVersion\": \"0.3.4\", \"failureMessage\": \"\", \"exceptionClass\": \"\", \"trace\": \"\"}}, \"*\")"
      ],
      "text/plain": [
       "<IPython.core.display.Javascript object>"
      ]
     },
     "metadata": {},
     "output_type": "display_data"
    },
    {
     "data": {
      "text/markdown": [
       "<span style=\"color:#33cc33\">Correct</span>"
      ],
      "text/plain": [
       "Correct"
      ]
     },
     "metadata": {},
     "output_type": "display_data"
    },
    {
     "data": {
      "image/png": "[encoded data removed]",
      "text/plain": [
       "<Figure size 432x288 with 1 Axes>"
      ]
     },
     "metadata": {
      "needs_background": "light"
     },
     "output_type": "display_data"
    }
   ],
   "source": [
    "# Scatter plot w/ regression line showing the relationship between 'sugarpercent' and 'winpercent'\n",
    "sns.regplot(x=candy_data['sugarpercent'],y=candy_data['winpercent'])\n",
    "\n",
    "# Check your answer\n",
    "step_4.a.check()"
   ]
  },
  {
   "cell_type": "code",
   "execution_count": 13,
   "id": "92326503",
   "metadata": {
    "execution": {
     "iopub.execute_input": "2022-09-29T11:10:33.107713Z",
     "iopub.status.busy": "2022-09-29T11:10:33.106751Z",
     "iopub.status.idle": "2022-09-29T11:10:33.111302Z",
     "shell.execute_reply": "2022-09-29T11:10:33.110385Z"
    },
    "papermill": {
     "duration": 0.018656,
     "end_time": "2022-09-29T11:10:33.113436",
     "exception": false,
     "start_time": "2022-09-29T11:10:33.094780",
     "status": "completed"
    },
    "tags": []
   },
   "outputs": [],
   "source": [
    "# Lines below will give you a hint or solution code\n",
    "#step_4.a.hint()\n",
    "#step_4.a.solution_plot()"
   ]
  },
  {
   "cell_type": "markdown",
   "id": "34b2173c",
   "metadata": {
    "papermill": {
     "duration": 0.010287,
     "end_time": "2022-09-29T11:10:33.134464",
     "exception": false,
     "start_time": "2022-09-29T11:10:33.124177",
     "status": "completed"
    },
    "tags": []
   },
   "source": [
    "#### Part B\n",
    "\n",
    "According to the plot above, is there a **slight** correlation between `'winpercent'` and `'sugarpercent'`?  What does this tell you about the candy that people tend to prefer?"
   ]
  },
  {
   "cell_type": "code",
   "execution_count": 14,
   "id": "632b27d3",
   "metadata": {
    "execution": {
     "iopub.execute_input": "2022-09-29T11:10:33.157754Z",
     "iopub.status.busy": "2022-09-29T11:10:33.157350Z",
     "iopub.status.idle": "2022-09-29T11:10:33.162006Z",
     "shell.execute_reply": "2022-09-29T11:10:33.160944Z"
    },
    "papermill": {
     "duration": 0.019005,
     "end_time": "2022-09-29T11:10:33.164255",
     "exception": false,
     "start_time": "2022-09-29T11:10:33.145250",
     "status": "completed"
    },
    "tags": []
   },
   "outputs": [],
   "source": [
    "#step_4.b.hint()"
   ]
  },
  {
   "cell_type": "code",
   "execution_count": 15,
   "id": "c0d56c8c",
   "metadata": {
    "execution": {
     "iopub.execute_input": "2022-09-29T11:10:33.188072Z",
     "iopub.status.busy": "2022-09-29T11:10:33.187672Z",
     "iopub.status.idle": "2022-09-29T11:10:33.196480Z",
     "shell.execute_reply": "2022-09-29T11:10:33.195434Z"
    },
    "papermill": {
     "duration": 0.023432,
     "end_time": "2022-09-29T11:10:33.198783",
     "exception": false,
     "start_time": "2022-09-29T11:10:33.175351",
     "status": "completed"
    },
    "tags": []
   },
   "outputs": [
    {
     "data": {
      "application/javascript": [
       "parent.postMessage({\"jupyterEvent\": \"custom.exercise_interaction\", \"data\": {\"interactionType\": 3, \"questionType\": 4, \"questionId\": \"4.2_ThinkBlueReg\", \"learnToolsVersion\": \"0.3.4\", \"valueTowardsCompletion\": 0.0, \"failureMessage\": \"\", \"exceptionClass\": \"\", \"trace\": \"\", \"outcomeType\": 4}}, \"*\")"
      ],
      "text/plain": [
       "<IPython.core.display.Javascript object>"
      ]
     },
     "metadata": {},
     "output_type": "display_data"
    },
    {
     "data": {
      "text/markdown": [
       "<span style=\"color:#33cc99\">Solution:</span> Since the regression line has a slightly positive slope, this tells us that there is a slightly positive correlation between `'winpercent'` and `'sugarpercent'`. Thus, people have a slight preference for candies containing relatively more sugar."
      ],
      "text/plain": [
       "Solution: Since the regression line has a slightly positive slope, this tells us that there is a slightly positive correlation between `'winpercent'` and `'sugarpercent'`. Thus, people have a slight preference for candies containing relatively more sugar."
      ]
     },
     "metadata": {},
     "output_type": "display_data"
    }
   ],
   "source": [
    "# Check your answer (Run this code cell to receive credit!)\n",
    "step_4.b.solution()"
   ]
  },
  {
   "cell_type": "markdown",
   "id": "893662b9",
   "metadata": {
    "papermill": {
     "duration": 0.010598,
     "end_time": "2022-09-29T11:10:33.220486",
     "exception": false,
     "start_time": "2022-09-29T11:10:33.209888",
     "status": "completed"
    },
    "tags": []
   },
   "source": [
    "## Step 5: Chocolate!\n",
    "\n",
    "In the code cell below, create a scatter plot to show the relationship between `'pricepercent'` (on the horizontal x-axis) and `'winpercent'` (on the vertical y-axis). Use the `'chocolate'` column to color-code the points.  _Don't add any regression lines just yet -- you'll do that in the next step!_"
   ]
  },
  {
   "cell_type": "code",
   "execution_count": 16,
   "id": "088f800e",
   "metadata": {
    "execution": {
     "iopub.execute_input": "2022-09-29T11:10:33.244140Z",
     "iopub.status.busy": "2022-09-29T11:10:33.243741Z",
     "iopub.status.idle": "2022-09-29T11:10:33.502927Z",
     "shell.execute_reply": "2022-09-29T11:10:33.501805Z"
    },
    "papermill": {
     "duration": 0.273895,
     "end_time": "2022-09-29T11:10:33.505310",
     "exception": false,
     "start_time": "2022-09-29T11:10:33.231415",
     "status": "completed"
    },
    "tags": []
   },
   "outputs": [
    {
     "data": {
      "application/javascript": [
       "parent.postMessage({\"jupyterEvent\": \"custom.exercise_interaction\", \"data\": {\"outcomeType\": 1, \"valueTowardsCompletion\": 0.3333333333333333, \"interactionType\": 1, \"questionType\": 2, \"questionId\": \"5_ColorScatter\", \"learnToolsVersion\": \"0.3.4\", \"failureMessage\": \"\", \"exceptionClass\": \"\", \"trace\": \"\"}}, \"*\")"
      ],
      "text/plain": [
       "<IPython.core.display.Javascript object>"
      ]
     },
     "metadata": {},
     "output_type": "display_data"
    },
    {
     "data": {
      "text/markdown": [
       "<span style=\"color:#33cc33\">Correct</span>"
      ],
      "text/plain": [
       "Correct"
      ]
     },
     "metadata": {},
     "output_type": "display_data"
    },
    {
     "data": {
      "image/png": "[encoded data removed]",
      "text/plain": [
       "<Figure size 432x288 with 1 Axes>"
      ]
     },
     "metadata": {
      "needs_background": "light"
     },
     "output_type": "display_data"
    }
   ],
   "source": [
    "# Scatter plot showing the relationship between 'pricepercent', 'winpercent', and 'chocolate'\n",
    "sns.scatterplot(x=candy_data['pricepercent'], y=candy_data['winpercent'], hue=candy_data['chocolate'])\n",
    "\n",
    "# Check your answer\n",
    "step_5.check()"
   ]
  },
  {
   "cell_type": "code",
   "execution_count": 17,
   "id": "a9cdac73",
   "metadata": {
    "execution": {
     "iopub.execute_input": "2022-09-29T11:10:33.530324Z",
     "iopub.status.busy": "2022-09-29T11:10:33.529936Z",
     "iopub.status.idle": "2022-09-29T11:10:33.535201Z",
     "shell.execute_reply": "2022-09-29T11:10:33.533905Z"
    },
    "papermill": {
     "duration": 0.020605,
     "end_time": "2022-09-29T11:10:33.537691",
     "exception": false,
     "start_time": "2022-09-29T11:10:33.517086",
     "status": "completed"
    },
    "tags": []
   },
   "outputs": [],
   "source": [
    "# Lines below will give you a hint or solution code\n",
    "#step_5.hint()\n",
    "#step_5.solution_plot()"
   ]
  },
  {
   "cell_type": "markdown",
   "id": "8c663855",
   "metadata": {
    "papermill": {
     "duration": 0.011375,
     "end_time": "2022-09-29T11:10:33.560953",
     "exception": false,
     "start_time": "2022-09-29T11:10:33.549578",
     "status": "completed"
    },
    "tags": []
   },
   "source": [
    "Can you see any interesting patterns in the scatter plot?  We'll investigate this plot further  by adding regression lines in the next step!\n",
    "\n",
    "## Step 6: Investigate chocolate\n",
    "\n",
    "#### Part A\n",
    "\n",
    "Create the same scatter plot you created in **Step 5**, but now with two regression lines, corresponding to (1) chocolate candies and (2) candies without chocolate."
   ]
  },
  {
   "cell_type": "code",
   "execution_count": 18,
   "id": "2ee4ce01",
   "metadata": {
    "execution": {
     "iopub.execute_input": "2022-09-29T11:10:33.585962Z",
     "iopub.status.busy": "2022-09-29T11:10:33.585506Z",
     "iopub.status.idle": "2022-09-29T11:10:34.182064Z",
     "shell.execute_reply": "2022-09-29T11:10:34.180693Z"
    },
    "papermill": {
     "duration": 0.611888,
     "end_time": "2022-09-29T11:10:34.184528",
     "exception": false,
     "start_time": "2022-09-29T11:10:33.572640",
     "status": "completed"
    },
    "tags": []
   },
   "outputs": [
    {
     "data": {
      "application/javascript": [
       "parent.postMessage({\"jupyterEvent\": \"custom.exercise_interaction\", \"data\": {\"outcomeType\": 1, \"valueTowardsCompletion\": 0.3333333333333333, \"interactionType\": 1, \"questionType\": 2, \"questionId\": \"6.1_PlotColorReg\", \"learnToolsVersion\": \"0.3.4\", \"failureMessage\": \"\", \"exceptionClass\": \"\", \"trace\": \"\"}}, \"*\")"
      ],
      "text/plain": [
       "<IPython.core.display.Javascript object>"
      ]
     },
     "metadata": {},
     "output_type": "display_data"
    },
    {
     "data": {
      "text/markdown": [
       "<span style=\"color:#33cc33\">Correct</span>"
      ],
      "text/plain": [
       "Correct"
      ]
     },
     "metadata": {},
     "output_type": "display_data"
    },
    {
     "data": {
      "image/png": "[encoded data removed]",
      "text/plain": [
       "<Figure size 416.375x360 with 1 Axes>"
      ]
     },
     "metadata": {
      "needs_background": "light"
     },
     "output_type": "display_data"
    }
   ],
   "source": [
    "# Color-coded scatter plot w/ regression lines\n",
    "sns.lmplot(x='pricepercent', y='winpercent', hue='chocolate',data=candy_data)\n",
    "\n",
    "# Check your answer\n",
    "step_6.a.check()"
   ]
  },
  {
   "cell_type": "code",
   "execution_count": 19,
   "id": "6be74370",
   "metadata": {
    "execution": {
     "iopub.execute_input": "2022-09-29T11:10:34.211769Z",
     "iopub.status.busy": "2022-09-29T11:10:34.210933Z",
     "iopub.status.idle": "2022-09-29T11:10:34.215823Z",
     "shell.execute_reply": "2022-09-29T11:10:34.214682Z"
    },
    "papermill": {
     "duration": 0.020964,
     "end_time": "2022-09-29T11:10:34.218115",
     "exception": false,
     "start_time": "2022-09-29T11:10:34.197151",
     "status": "completed"
    },
    "tags": []
   },
   "outputs": [],
   "source": [
    "# Lines below will give you a hint or solution code\n",
    "#step_6.a.hint()\n",
    "#step_6.a.solution_plot()"
   ]
  },
  {
   "cell_type": "markdown",
   "id": "90e9a6cc",
   "metadata": {
    "papermill": {
     "duration": 0.011786,
     "end_time": "2022-09-29T11:10:34.242142",
     "exception": false,
     "start_time": "2022-09-29T11:10:34.230356",
     "status": "completed"
    },
    "tags": []
   },
   "source": [
    "#### Part B\n",
    "\n",
    "Using the regression lines, what conclusions can you draw about the effects of chocolate and price on candy popularity?"
   ]
  },
  {
   "cell_type": "code",
   "execution_count": 20,
   "id": "7e00f6a6",
   "metadata": {
    "execution": {
     "iopub.execute_input": "2022-09-29T11:10:34.268467Z",
     "iopub.status.busy": "2022-09-29T11:10:34.267688Z",
     "iopub.status.idle": "2022-09-29T11:10:34.271835Z",
     "shell.execute_reply": "2022-09-29T11:10:34.270931Z"
    },
    "papermill": {
     "duration": 0.019677,
     "end_time": "2022-09-29T11:10:34.273933",
     "exception": false,
     "start_time": "2022-09-29T11:10:34.254256",
     "status": "completed"
    },
    "tags": []
   },
   "outputs": [],
   "source": [
    "#step_6.b.hint()"
   ]
  },
  {
   "cell_type": "code",
   "execution_count": 21,
   "id": "da93348a",
   "metadata": {
    "execution": {
     "iopub.execute_input": "2022-09-29T11:10:34.299952Z",
     "iopub.status.busy": "2022-09-29T11:10:34.299542Z",
     "iopub.status.idle": "2022-09-29T11:10:34.308003Z",
     "shell.execute_reply": "2022-09-29T11:10:34.306954Z"
    },
    "papermill": {
     "duration": 0.023824,
     "end_time": "2022-09-29T11:10:34.309972",
     "exception": false,
     "start_time": "2022-09-29T11:10:34.286148",
     "status": "completed"
    },
    "tags": []
   },
   "outputs": [
    {
     "data": {
      "application/javascript": [
       "parent.postMessage({\"jupyterEvent\": \"custom.exercise_interaction\", \"data\": {\"interactionType\": 3, \"questionType\": 4, \"questionId\": \"6.2_ThinkColorReg\", \"learnToolsVersion\": \"0.3.4\", \"valueTowardsCompletion\": 0.0, \"failureMessage\": \"\", \"exceptionClass\": \"\", \"trace\": \"\", \"outcomeType\": 4}}, \"*\")"
      ],
      "text/plain": [
       "<IPython.core.display.Javascript object>"
      ]
     },
     "metadata": {},
     "output_type": "display_data"
    },
    {
     "data": {
      "text/markdown": [
       "<span style=\"color:#33cc99\">Solution:</span> We'll begin with the regression line for chocolate candies. Since this line has a slightly positive slope, we can say that more expensive chocolate candies tend to be more popular (than relatively cheaper chocolate candies).  Likewise, since the regression line for candies without chocolate has a negative slope, we can say that if candies don't contain chocolate, they tend to be more popular when they are cheaper.  One important note, however, is that the dataset is quite small -- so we shouldn't invest too much trust in these patterns!  To inspire more confidence in the results, we should add more candies to the dataset."
      ],
      "text/plain": [
       "Solution: We'll begin with the regression line for chocolate candies. Since this line has a slightly positive slope, we can say that more expensive chocolate candies tend to be more popular (than relatively cheaper chocolate candies).  Likewise, since the regression line for candies without chocolate has a negative slope, we can say that if candies don't contain chocolate, they tend to be more popular when they are cheaper.  One important note, however, is that the dataset is quite small -- so we shouldn't invest too much trust in these patterns!  To inspire more confidence in the results, we should add more candies to the dataset."
      ]
     },
     "metadata": {},
     "output_type": "display_data"
    }
   ],
   "source": [
    "# Check your answer (Run this code cell to receive credit!)\n",
    "step_6.b.solution()"
   ]
  },
  {
   "cell_type": "markdown",
   "id": "969993dc",
   "metadata": {
    "papermill": {
     "duration": 0.012329,
     "end_time": "2022-09-29T11:10:34.334798",
     "exception": false,
     "start_time": "2022-09-29T11:10:34.322469",
     "status": "completed"
    },
    "tags": []
   },
   "source": [
    "## Step 7: Everybody loves chocolate.\n",
    "\n",
    "#### Part A\n",
    "\n",
    "Create a categorical scatter plot to highlight the relationship between `'chocolate'` and `'winpercent'`.  Put `'chocolate'` on the (horizontal) x-axis, and `'winpercent'` on the (vertical) y-axis."
   ]
  },
  {
   "cell_type": "code",
   "execution_count": 22,
   "id": "3072121a",
   "metadata": {
    "execution": {
     "iopub.execute_input": "2022-09-29T11:10:34.361856Z",
     "iopub.status.busy": "2022-09-29T11:10:34.361312Z",
     "iopub.status.idle": "2022-09-29T11:10:34.560355Z",
     "shell.execute_reply": "2022-09-29T11:10:34.559376Z"
    },
    "papermill": {
     "duration": 0.21502,
     "end_time": "2022-09-29T11:10:34.562460",
     "exception": false,
     "start_time": "2022-09-29T11:10:34.347440",
     "status": "completed"
    },
    "tags": []
   },
   "outputs": [
    {
     "data": {
      "application/javascript": [
       "parent.postMessage({\"jupyterEvent\": \"custom.exercise_interaction\", \"data\": {\"outcomeType\": 1, \"valueTowardsCompletion\": 0.3333333333333333, \"interactionType\": 1, \"questionType\": 2, \"questionId\": \"7.1_PlotSwarm\", \"learnToolsVersion\": \"0.3.4\", \"failureMessage\": \"\", \"exceptionClass\": \"\", \"trace\": \"\"}}, \"*\")"
      ],
      "text/plain": [
       "<IPython.core.display.Javascript object>"
      ]
     },
     "metadata": {},
     "output_type": "display_data"
    },
    {
     "data": {
      "text/markdown": [
       "<span style=\"color:#33cc33\">Correct</span>"
      ],
      "text/plain": [
       "Correct"
      ]
     },
     "metadata": {},
     "output_type": "display_data"
    },
    {
     "data": {
      "image/png": "[encoded data removed]",
      "text/plain": [
       "<Figure size 432x288 with 1 Axes>"
      ]
     },
     "metadata": {
      "needs_background": "light"
     },
     "output_type": "display_data"
    }
   ],
   "source": [
    "# Scatter plot showing the relationship between 'chocolate' and 'winpercent'\n",
    "sns.swarmplot(x=candy_data['chocolate'],y=candy_data['winpercent'])\n",
    "\n",
    "# Check your answer\n",
    "step_7.a.check()"
   ]
  },
  {
   "cell_type": "code",
   "execution_count": 23,
   "id": "211ef17a",
   "metadata": {
    "execution": {
     "iopub.execute_input": "2022-09-29T11:10:34.591333Z",
     "iopub.status.busy": "2022-09-29T11:10:34.590266Z",
     "iopub.status.idle": "2022-09-29T11:10:34.595816Z",
     "shell.execute_reply": "2022-09-29T11:10:34.594756Z"
    },
    "papermill": {
     "duration": 0.022422,
     "end_time": "2022-09-29T11:10:34.598267",
     "exception": false,
     "start_time": "2022-09-29T11:10:34.575845",
     "status": "completed"
    },
    "tags": []
   },
   "outputs": [],
   "source": [
    "# Lines below will give you a hint or solution code\n",
    "#step_7.a.hint()\n",
    "#step_7.a.solution_plot()"
   ]
  },
  {
   "cell_type": "markdown",
   "id": "ec381d88",
   "metadata": {
    "papermill": {
     "duration": 0.012775,
     "end_time": "2022-09-29T11:10:34.624312",
     "exception": false,
     "start_time": "2022-09-29T11:10:34.611537",
     "status": "completed"
    },
    "tags": []
   },
   "source": [
    "#### Part B\n",
    "\n",
    "You decide to dedicate a section of your report to the fact that chocolate candies tend to be more popular than candies without chocolate.  Which plot is more appropriate to tell this story: the plot from **Step 6**, or the plot from **Step 7**?"
   ]
  },
  {
   "cell_type": "code",
   "execution_count": 24,
   "id": "198c5bb1",
   "metadata": {
    "execution": {
     "iopub.execute_input": "2022-09-29T11:10:34.652756Z",
     "iopub.status.busy": "2022-09-29T11:10:34.652318Z",
     "iopub.status.idle": "2022-09-29T11:10:34.657076Z",
     "shell.execute_reply": "2022-09-29T11:10:34.655970Z"
    },
    "papermill": {
     "duration": 0.021256,
     "end_time": "2022-09-29T11:10:34.659254",
     "exception": false,
     "start_time": "2022-09-29T11:10:34.637998",
     "status": "completed"
    },
    "tags": []
   },
   "outputs": [],
   "source": [
    "#step_7.b.hint()"
   ]
  },
  {
   "cell_type": "code",
   "execution_count": 25,
   "id": "1f9d6efa",
   "metadata": {
    "execution": {
     "iopub.execute_input": "2022-09-29T11:10:34.687806Z",
     "iopub.status.busy": "2022-09-29T11:10:34.687033Z",
     "iopub.status.idle": "2022-09-29T11:10:34.695904Z",
     "shell.execute_reply": "2022-09-29T11:10:34.695083Z"
    },
    "papermill": {
     "duration": 0.025516,
     "end_time": "2022-09-29T11:10:34.698016",
     "exception": false,
     "start_time": "2022-09-29T11:10:34.672500",
     "status": "completed"
    },
    "tags": []
   },
   "outputs": [
    {
     "data": {
      "application/javascript": [
       "parent.postMessage({\"jupyterEvent\": \"custom.exercise_interaction\", \"data\": {\"interactionType\": 3, \"questionType\": 4, \"questionId\": \"7.2_ThinkSwarm\", \"learnToolsVersion\": \"0.3.4\", \"valueTowardsCompletion\": 0.0, \"failureMessage\": \"\", \"exceptionClass\": \"\", \"trace\": \"\", \"outcomeType\": 4}}, \"*\")"
      ],
      "text/plain": [
       "<IPython.core.display.Javascript object>"
      ]
     },
     "metadata": {},
     "output_type": "display_data"
    },
    {
     "data": {
      "text/markdown": [
       "<span style=\"color:#33cc99\">Solution:</span> In this case, the categorical scatter plot from **Step 7** is the more appropriate plot. While both plots tell the desired story, the plot from **Step 6** conveys far more information that could distract from the main point."
      ],
      "text/plain": [
       "Solution: In this case, the categorical scatter plot from **Step 7** is the more appropriate plot. While both plots tell the desired story, the plot from **Step 6** conveys far more information that could distract from the main point."
      ]
     },
     "metadata": {},
     "output_type": "display_data"
    }
   ],
   "source": [
    "# Check your answer (Run this code cell to receive credit!)\n",
    "step_7.b.solution()"
   ]
  },
  {
   "cell_type": "markdown",
   "id": "1ef2d48f",
   "metadata": {
    "papermill": {
     "duration": 0.012912,
     "end_time": "2022-09-29T11:10:34.724140",
     "exception": false,
     "start_time": "2022-09-29T11:10:34.711228",
     "status": "completed"
    },
    "tags": []
   },
   "source": [
    "## Keep going\n",
    "\n",
    "Explore **[histograms and density plots](https://www.kaggle.com/alexisbcook/distributions)**."
   ]
  },
  {
   "cell_type": "markdown",
   "id": "a99da09b",
   "metadata": {
    "papermill": {
     "duration": 0.012994,
     "end_time": "2022-09-29T11:10:34.750429",
     "exception": false,
     "start_time": "2022-09-29T11:10:34.737435",
     "status": "completed"
    },
    "tags": []
   },
   "source": [
    "---\n",
    "\n",
    "\n",
    "\n",
    "\n",
    "*Have questions or comments? Visit the [course discussion forum](https://www.kaggle.com/learn/data-visualization/discussion) to chat with other learners.*"
   ]
  }
 ],
 "metadata": {
  "kernelspec": {
   "display_name": "Python 3",
   "language": "python",
   "name": "python3"
  },
  "language_info": {
   "codemirror_mode": {
    "name": "ipython",
    "version": 3
   },
   "file_extension": ".py",
   "mimetype": "text/x-python",
   "name": "python",
   "nbconvert_exporter": "python",
   "pygments_lexer": "ipython3",
   "version": "3.7.12"
  },
  "papermill": {
   "default_parameters": {},
   "duration": 13.53038,
   "end_time": "2022-09-29T11:10:35.484729",
   "environment_variables": {},
   "exception": null,
   "input_path": "__notebook__.ipynb",
   "output_path": "__notebook__.ipynb",
   "parameters": {},
   "start_time": "2022-09-29T11:10:21.954349",
   "version": "2.3.4"
  }
 },
 "nbformat": 4,
 "nbformat_minor": 5
}
