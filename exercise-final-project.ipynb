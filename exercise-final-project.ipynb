{
 "cells": [
  {
   "cell_type": "markdown",
   "id": "a9d2aed1",
   "metadata": {
    "papermill": {
     "duration": 0.005824,
     "end_time": "2022-09-29T16:40:37.549540",
     "exception": false,
     "start_time": "2022-09-29T16:40:37.543716",
     "status": "completed"
    },
    "tags": []
   },
   "source": [
    "**This notebook is an exercise in the [Data Visualization](https://www.kaggle.com/learn/data-visualization) course.  You can reference the tutorial at [this link](https://www.kaggle.com/alexisbcook/final-project).**\n",
    "\n",
    "---\n"
   ]
  },
  {
   "cell_type": "markdown",
   "id": "d9e7feba",
   "metadata": {
    "papermill": {
     "duration": 0.003975,
     "end_time": "2022-09-29T16:40:37.557915",
     "exception": false,
     "start_time": "2022-09-29T16:40:37.553940",
     "status": "completed"
    },
    "tags": []
   },
   "source": [
    "Now it's time for you to demonstrate your new skills with a project of your own!\n",
    "\n",
    "In this exercise, you will work with a dataset of your choosing.  Once you've selected a dataset, you'll design and create your own plot to tell interesting stories behind the data!\n",
    "\n",
    "## Setup\n",
    "\n",
    "Run the next cell to import and configure the Python libraries that you need to complete the exercise."
   ]
  },
  {
   "cell_type": "code",
   "execution_count": 1,
   "id": "0358061d",
   "metadata": {
    "execution": {
     "iopub.execute_input": "2022-09-29T16:40:37.568780Z",
     "iopub.status.busy": "2022-09-29T16:40:37.568118Z",
     "iopub.status.idle": "2022-09-29T16:40:38.815271Z",
     "shell.execute_reply": "2022-09-29T16:40:38.813155Z"
    },
    "papermill": {
     "duration": 1.256376,
     "end_time": "2022-09-29T16:40:38.818504",
     "exception": false,
     "start_time": "2022-09-29T16:40:37.562128",
     "status": "completed"
    },
    "tags": []
   },
   "outputs": [
    {
     "name": "stdout",
     "output_type": "stream",
     "text": [
      "Setup Complete\n"
     ]
    }
   ],
   "source": [
    "import pandas as pd\n",
    "pd.plotting.register_matplotlib_converters()\n",
    "import matplotlib.pyplot as plt\n",
    "%matplotlib inline\n",
    "import seaborn as sns\n",
    "print(\"Setup Complete\")"
   ]
  },
  {
   "cell_type": "markdown",
   "id": "123b31cd",
   "metadata": {
    "papermill": {
     "duration": 0.004001,
     "end_time": "2022-09-29T16:40:38.827515",
     "exception": false,
     "start_time": "2022-09-29T16:40:38.823514",
     "status": "completed"
    },
    "tags": []
   },
   "source": [
    "The questions below will give you feedback on your work. Run the following cell to set up the feedback system."
   ]
  },
  {
   "cell_type": "code",
   "execution_count": 2,
   "id": "fc80b6e0",
   "metadata": {
    "execution": {
     "iopub.execute_input": "2022-09-29T16:40:38.838449Z",
     "iopub.status.busy": "2022-09-29T16:40:38.837403Z",
     "iopub.status.idle": "2022-09-29T16:40:38.887218Z",
     "shell.execute_reply": "2022-09-29T16:40:38.885527Z"
    },
    "papermill": {
     "duration": 0.058078,
     "end_time": "2022-09-29T16:40:38.889754",
     "exception": false,
     "start_time": "2022-09-29T16:40:38.831676",
     "status": "completed"
    },
    "tags": []
   },
   "outputs": [
    {
     "name": "stdout",
     "output_type": "stream",
     "text": [
      "Setup Complete\n"
     ]
    }
   ],
   "source": [
    "# Set up code checking\n",
    "from learntools.core import binder\n",
    "binder.bind(globals())\n",
    "from learntools.data_viz_to_coder.ex7 import *\n",
    "print(\"Setup Complete\")"
   ]
  },
  {
   "cell_type": "markdown",
   "id": "6999ff6b",
   "metadata": {
    "papermill": {
     "duration": 0.004072,
     "end_time": "2022-09-29T16:40:38.898278",
     "exception": false,
     "start_time": "2022-09-29T16:40:38.894206",
     "status": "completed"
    },
    "tags": []
   },
   "source": [
    "## Step 1: Attach a dataset to the notebook\n",
    "\n",
    "Begin by selecting a CSV dataset from [Kaggle Datasets](https://www.kaggle.com/datasets).  If you're unsure how to do this, please revisit the instructions in the previous tutorial.\n",
    "\n",
    "Once you have selected a dataset, click on the **[+ Add data]** option in the top right corner.  This will generate a pop-up window that you can use to search for your chosen dataset.  \n",
    "\n",
    "![ex6_search_dataset](https://i.imgur.com/cIIWPUS.png)\n",
    "\n",
    "Once you have found the dataset, click on the **[Add]** button to attach it to the notebook.  You can check that it was successful by looking at the **Data** dropdown menu to the right of the notebook -- look for an **input** folder containing a subfolder that matches the name of the dataset.\n",
    "\n",
    "<center>\n",
    "<img src=\"https://i.imgur.com/nMYc1Nu.png\" width=30%><br/>\n",
    "</center>\n",
    "\n",
    "You can click on the carat to the left of the name of the dataset to double-check that it contains a CSV file.  For instance, the image below shows that the example dataset contains two CSV files: (1) **dc-wikia-data.csv**, and (2) **marvel-wikia-data.csv**.\n",
    "\n",
    "<center>\n",
    "<img src=\"https://i.imgur.com/B4sJkVA.png\" width=30%><br/>\n",
    "</center>\n",
    "\n",
    "Once you've uploaded a dataset with a CSV file, run the code cell below **without changes** to receive credit for your work!"
   ]
  },
  {
   "cell_type": "code",
   "execution_count": 3,
   "id": "69140c4a",
   "metadata": {
    "execution": {
     "iopub.execute_input": "2022-09-29T16:40:38.909523Z",
     "iopub.status.busy": "2022-09-29T16:40:38.908318Z",
     "iopub.status.idle": "2022-09-29T16:40:38.926348Z",
     "shell.execute_reply": "2022-09-29T16:40:38.924963Z"
    },
    "papermill": {
     "duration": 0.026272,
     "end_time": "2022-09-29T16:40:38.928914",
     "exception": false,
     "start_time": "2022-09-29T16:40:38.902642",
     "status": "completed"
    },
    "tags": []
   },
   "outputs": [
    {
     "data": {
      "application/javascript": [
       "parent.postMessage({\"jupyterEvent\": \"custom.exercise_interaction\", \"data\": {\"outcomeType\": 1, \"valueTowardsCompletion\": 0.25, \"interactionType\": 1, \"questionType\": 2, \"questionId\": \"1_AttachData\", \"learnToolsVersion\": \"0.3.4\", \"failureMessage\": \"\", \"exceptionClass\": \"\", \"trace\": \"\"}}, \"*\")"
      ],
      "text/plain": [
       "<IPython.core.display.Javascript object>"
      ]
     },
     "metadata": {},
     "output_type": "display_data"
    },
    {
     "data": {
      "text/markdown": [
       "<span style=\"color:#33cc33\">Correct:</span> \n",
       "\n"
      ],
      "text/plain": [
       "Correct: \n"
      ]
     },
     "metadata": {},
     "output_type": "display_data"
    }
   ],
   "source": [
    "# Check for a dataset with a CSV file\n",
    "step_1.check()"
   ]
  },
  {
   "cell_type": "markdown",
   "id": "20c56756",
   "metadata": {
    "papermill": {
     "duration": 0.004252,
     "end_time": "2022-09-29T16:40:38.937933",
     "exception": false,
     "start_time": "2022-09-29T16:40:38.933681",
     "status": "completed"
    },
    "tags": []
   },
   "source": [
    "## Step 2: Specify the filepath\n",
    "\n",
    "Now that the dataset is attached to the notebook, you can find its filepath.  To do this, begin by clicking on the CSV file you'd like to use.  This will open the CSV file in a tab below the notebook.  You can find the filepath towards the top of this new tab.  \n",
    "\n",
    "![ex6_filepath](https://i.imgur.com/fgXQV47.png)\n",
    "\n",
    "After you find the filepath corresponding to your dataset, fill it in as the value for `my_filepath` in the code cell below, and run the code cell to check that you've provided a valid filepath.  For instance, in the case of this example dataset, we would set\n",
    "```\n",
    "my_filepath = \"../input/fivethirtyeight-comic-characters-dataset/dc-wikia-data.csv\"\n",
    "```  \n",
    "Note that **you must enclose the filepath in quotation marks**; otherwise, the code will return an error.\n",
    "\n",
    "Once you've entered the filepath, you can close the tab below the notebook by clicking on the **[X]** at the top of the tab."
   ]
  },
  {
   "cell_type": "code",
   "execution_count": 4,
   "id": "5bf65c24",
   "metadata": {
    "execution": {
     "iopub.execute_input": "2022-09-29T16:40:38.949041Z",
     "iopub.status.busy": "2022-09-29T16:40:38.948614Z",
     "iopub.status.idle": "2022-09-29T16:40:38.958379Z",
     "shell.execute_reply": "2022-09-29T16:40:38.957302Z"
    },
    "papermill": {
     "duration": 0.018034,
     "end_time": "2022-09-29T16:40:38.960629",
     "exception": false,
     "start_time": "2022-09-29T16:40:38.942595",
     "status": "completed"
    },
    "tags": []
   },
   "outputs": [
    {
     "data": {
      "application/javascript": [
       "parent.postMessage({\"jupyterEvent\": \"custom.exercise_interaction\", \"data\": {\"outcomeType\": 1, \"valueTowardsCompletion\": 0.25, \"interactionType\": 1, \"questionType\": 2, \"questionId\": \"2_Filepath\", \"learnToolsVersion\": \"0.3.4\", \"failureMessage\": \"\", \"exceptionClass\": \"\", \"trace\": \"\"}}, \"*\")"
      ],
      "text/plain": [
       "<IPython.core.display.Javascript object>"
      ]
     },
     "metadata": {},
     "output_type": "display_data"
    },
    {
     "data": {
      "text/markdown": [
       "<span style=\"color:#33cc33\">Correct:</span> \n",
       "\n"
      ],
      "text/plain": [
       "Correct: \n"
      ]
     },
     "metadata": {},
     "output_type": "display_data"
    }
   ],
   "source": [
    "# Fill in the line below: Specify the path of the CSV file to read\n",
    "my_filepath = \"../input/planet-dataset/planets.csv\"\n",
    "\n",
    "# Check for a valid filepath to a CSV file in a dataset\n",
    "step_2.check()"
   ]
  },
  {
   "cell_type": "markdown",
   "id": "ff9d1e13",
   "metadata": {
    "papermill": {
     "duration": 0.00444,
     "end_time": "2022-09-29T16:40:38.970060",
     "exception": false,
     "start_time": "2022-09-29T16:40:38.965620",
     "status": "completed"
    },
    "tags": []
   },
   "source": [
    "## Step 3: Load the data\n",
    "\n",
    "Use the next code cell to load your data file into `my_data`.  Use the filepath that you specified in the previous step."
   ]
  },
  {
   "cell_type": "code",
   "execution_count": 5,
   "id": "214e4452",
   "metadata": {
    "execution": {
     "iopub.execute_input": "2022-09-29T16:40:38.981359Z",
     "iopub.status.busy": "2022-09-29T16:40:38.980940Z",
     "iopub.status.idle": "2022-09-29T16:40:39.003372Z",
     "shell.execute_reply": "2022-09-29T16:40:39.002218Z"
    },
    "papermill": {
     "duration": 0.030889,
     "end_time": "2022-09-29T16:40:39.005650",
     "exception": false,
     "start_time": "2022-09-29T16:40:38.974761",
     "status": "completed"
    },
    "tags": []
   },
   "outputs": [
    {
     "data": {
      "application/javascript": [
       "parent.postMessage({\"jupyterEvent\": \"custom.exercise_interaction\", \"data\": {\"outcomeType\": 1, \"valueTowardsCompletion\": 0.25, \"interactionType\": 1, \"questionType\": 2, \"questionId\": \"3_LoadData\", \"learnToolsVersion\": \"0.3.4\", \"failureMessage\": \"\", \"exceptionClass\": \"\", \"trace\": \"\"}}, \"*\")"
      ],
      "text/plain": [
       "<IPython.core.display.Javascript object>"
      ]
     },
     "metadata": {},
     "output_type": "display_data"
    },
    {
     "data": {
      "text/markdown": [
       "<span style=\"color:#33cc33\">Correct:</span> \n",
       "\n"
      ],
      "text/plain": [
       "Correct: \n"
      ]
     },
     "metadata": {},
     "output_type": "display_data"
    }
   ],
   "source": [
    "# Fill in the line below: Read the file into a variable my_data\n",
    "my_data = pd.read_csv(my_filepath)\n",
    "\n",
    "# Check that a dataset has been uploaded into my_data\n",
    "step_3.check()"
   ]
  },
  {
   "cell_type": "markdown",
   "id": "f7e046a6",
   "metadata": {
    "papermill": {
     "duration": 0.00463,
     "end_time": "2022-09-29T16:40:39.015370",
     "exception": false,
     "start_time": "2022-09-29T16:40:39.010740",
     "status": "completed"
    },
    "tags": []
   },
   "source": [
    "**_After the code cell above is marked correct_**, run the code cell below without changes to view the first five rows of the data."
   ]
  },
  {
   "cell_type": "code",
   "execution_count": 6,
   "id": "497f3a54",
   "metadata": {
    "execution": {
     "iopub.execute_input": "2022-09-29T16:40:39.026859Z",
     "iopub.status.busy": "2022-09-29T16:40:39.026412Z",
     "iopub.status.idle": "2022-09-29T16:40:39.063721Z",
     "shell.execute_reply": "2022-09-29T16:40:39.062560Z"
    },
    "papermill": {
     "duration": 0.04616,
     "end_time": "2022-09-29T16:40:39.066430",
     "exception": false,
     "start_time": "2022-09-29T16:40:39.020270",
     "status": "completed"
    },
    "tags": []
   },
   "outputs": [
    {
     "data": {
      "text/html": [
       "<div>\n",
       "<style scoped>\n",
       "    .dataframe tbody tr th:only-of-type {\n",
       "        vertical-align: middle;\n",
       "    }\n",
       "\n",
       "    .dataframe tbody tr th {\n",
       "        vertical-align: top;\n",
       "    }\n",
       "\n",
       "    .dataframe thead th {\n",
       "        text-align: right;\n",
       "    }\n",
       "</style>\n",
       "<table border=\"1\" class=\"dataframe\">\n",
       "  <thead>\n",
       "    <tr style=\"text-align: right;\">\n",
       "      <th></th>\n",
       "      <th>Planet</th>\n",
       "      <th>Color</th>\n",
       "      <th>Mass (10^24kg)</th>\n",
       "      <th>Diameter (km)</th>\n",
       "      <th>Density (kg/m^3)</th>\n",
       "      <th>Surface Gravity(m/s^2)</th>\n",
       "      <th>Escape Velocity (km/s)</th>\n",
       "      <th>Rotation Period (hours)</th>\n",
       "      <th>Length of Day (hours)</th>\n",
       "      <th>Distance from Sun (10^6 km)</th>\n",
       "      <th>...</th>\n",
       "      <th>Orbital Period (days)</th>\n",
       "      <th>Orbital Velocity (km/s)</th>\n",
       "      <th>Orbital Inclination (degrees)</th>\n",
       "      <th>Orbital Eccentricity</th>\n",
       "      <th>Obliquity to Orbit (degrees)</th>\n",
       "      <th>Mean Temperature (C)</th>\n",
       "      <th>Surface Pressure (bars)</th>\n",
       "      <th>Number of Moons</th>\n",
       "      <th>Ring System?</th>\n",
       "      <th>Global Magnetic Field?</th>\n",
       "    </tr>\n",
       "  </thead>\n",
       "  <tbody>\n",
       "    <tr>\n",
       "      <th>0</th>\n",
       "      <td>Mercury</td>\n",
       "      <td>Grey</td>\n",
       "      <td>0.330</td>\n",
       "      <td>4879</td>\n",
       "      <td>5429</td>\n",
       "      <td>3.7</td>\n",
       "      <td>4.3</td>\n",
       "      <td>1407.6</td>\n",
       "      <td>4222.6</td>\n",
       "      <td>57.9</td>\n",
       "      <td>...</td>\n",
       "      <td>88</td>\n",
       "      <td>47.4</td>\n",
       "      <td>7.0</td>\n",
       "      <td>0.206</td>\n",
       "      <td>0.034</td>\n",
       "      <td>167</td>\n",
       "      <td>0</td>\n",
       "      <td>0</td>\n",
       "      <td>No</td>\n",
       "      <td>Yes</td>\n",
       "    </tr>\n",
       "    <tr>\n",
       "      <th>1</th>\n",
       "      <td>Venus</td>\n",
       "      <td>Brown and Grey</td>\n",
       "      <td>4.870</td>\n",
       "      <td>12104</td>\n",
       "      <td>5243</td>\n",
       "      <td>8.9</td>\n",
       "      <td>10.4</td>\n",
       "      <td>-5832.5</td>\n",
       "      <td>2802.0</td>\n",
       "      <td>108.2</td>\n",
       "      <td>...</td>\n",
       "      <td>224.7</td>\n",
       "      <td>35.0</td>\n",
       "      <td>3.4</td>\n",
       "      <td>0.007</td>\n",
       "      <td>177.400</td>\n",
       "      <td>464</td>\n",
       "      <td>92</td>\n",
       "      <td>0</td>\n",
       "      <td>No</td>\n",
       "      <td>No</td>\n",
       "    </tr>\n",
       "    <tr>\n",
       "      <th>2</th>\n",
       "      <td>Earth</td>\n",
       "      <td>Blue, Brown Green and White</td>\n",
       "      <td>5.970</td>\n",
       "      <td>12756</td>\n",
       "      <td>5514</td>\n",
       "      <td>9.8</td>\n",
       "      <td>11.2</td>\n",
       "      <td>23.9</td>\n",
       "      <td>24.0</td>\n",
       "      <td>149.6</td>\n",
       "      <td>...</td>\n",
       "      <td>365.2</td>\n",
       "      <td>29.8</td>\n",
       "      <td>0.0</td>\n",
       "      <td>0.017</td>\n",
       "      <td>23.400</td>\n",
       "      <td>15</td>\n",
       "      <td>1</td>\n",
       "      <td>1</td>\n",
       "      <td>No</td>\n",
       "      <td>Yes</td>\n",
       "    </tr>\n",
       "    <tr>\n",
       "      <th>3</th>\n",
       "      <td>Mars</td>\n",
       "      <td>Red, Brown and Tan</td>\n",
       "      <td>0.642</td>\n",
       "      <td>6792</td>\n",
       "      <td>3934</td>\n",
       "      <td>3.7</td>\n",
       "      <td>5.0</td>\n",
       "      <td>24.6</td>\n",
       "      <td>24.7</td>\n",
       "      <td>228.0</td>\n",
       "      <td>...</td>\n",
       "      <td>687</td>\n",
       "      <td>24.1</td>\n",
       "      <td>1.8</td>\n",
       "      <td>0.094</td>\n",
       "      <td>25.200</td>\n",
       "      <td>-65</td>\n",
       "      <td>0.01</td>\n",
       "      <td>2</td>\n",
       "      <td>No</td>\n",
       "      <td>No</td>\n",
       "    </tr>\n",
       "    <tr>\n",
       "      <th>4</th>\n",
       "      <td>Jupiter</td>\n",
       "      <td>Brown, Orange and Tan, with White cloud stripes</td>\n",
       "      <td>1898.000</td>\n",
       "      <td>142984</td>\n",
       "      <td>1326</td>\n",
       "      <td>23.1</td>\n",
       "      <td>59.5</td>\n",
       "      <td>9.9</td>\n",
       "      <td>9.9</td>\n",
       "      <td>778.5</td>\n",
       "      <td>...</td>\n",
       "      <td>4331</td>\n",
       "      <td>13.1</td>\n",
       "      <td>1.3</td>\n",
       "      <td>0.049</td>\n",
       "      <td>3.100</td>\n",
       "      <td>-110</td>\n",
       "      <td>Unknown</td>\n",
       "      <td>79</td>\n",
       "      <td>Yes</td>\n",
       "      <td>Yes</td>\n",
       "    </tr>\n",
       "  </tbody>\n",
       "</table>\n",
       "<p>5 rows × 22 columns</p>\n",
       "</div>"
      ],
      "text/plain": [
       "    Planet                                            Color  Mass (10^24kg)  \\\n",
       "0  Mercury                                             Grey           0.330   \n",
       "1    Venus                                   Brown and Grey           4.870   \n",
       "2    Earth                      Blue, Brown Green and White           5.970   \n",
       "3     Mars                               Red, Brown and Tan           0.642   \n",
       "4  Jupiter  Brown, Orange and Tan, with White cloud stripes        1898.000   \n",
       "\n",
       "   Diameter (km)  Density (kg/m^3)  Surface Gravity(m/s^2)  \\\n",
       "0           4879              5429                     3.7   \n",
       "1          12104              5243                     8.9   \n",
       "2          12756              5514                     9.8   \n",
       "3           6792              3934                     3.7   \n",
       "4         142984              1326                    23.1   \n",
       "\n",
       "   Escape Velocity (km/s)  Rotation Period (hours)  Length of Day (hours)  \\\n",
       "0                     4.3                   1407.6                 4222.6   \n",
       "1                    10.4                  -5832.5                 2802.0   \n",
       "2                    11.2                     23.9                   24.0   \n",
       "3                     5.0                     24.6                   24.7   \n",
       "4                    59.5                      9.9                    9.9   \n",
       "\n",
       "   Distance from Sun (10^6 km)  ...  Orbital Period (days)  \\\n",
       "0                         57.9  ...                     88   \n",
       "1                        108.2  ...                  224.7   \n",
       "2                        149.6  ...                  365.2   \n",
       "3                        228.0  ...                    687   \n",
       "4                        778.5  ...                   4331   \n",
       "\n",
       "   Orbital Velocity (km/s) Orbital Inclination (degrees)  \\\n",
       "0                     47.4                           7.0   \n",
       "1                     35.0                           3.4   \n",
       "2                     29.8                           0.0   \n",
       "3                     24.1                           1.8   \n",
       "4                     13.1                           1.3   \n",
       "\n",
       "   Orbital Eccentricity  Obliquity to Orbit (degrees)  Mean Temperature (C)  \\\n",
       "0                 0.206                         0.034                   167   \n",
       "1                 0.007                       177.400                   464   \n",
       "2                 0.017                        23.400                    15   \n",
       "3                 0.094                        25.200                   -65   \n",
       "4                 0.049                         3.100                  -110   \n",
       "\n",
       "   Surface Pressure (bars)  Number of Moons Ring System?  \\\n",
       "0                        0                0           No   \n",
       "1                       92                0           No   \n",
       "2                        1                1           No   \n",
       "3                     0.01                2           No   \n",
       "4                  Unknown               79          Yes   \n",
       "\n",
       "   Global Magnetic Field?  \n",
       "0                     Yes  \n",
       "1                      No  \n",
       "2                     Yes  \n",
       "3                      No  \n",
       "4                     Yes  \n",
       "\n",
       "[5 rows x 22 columns]"
      ]
     },
     "execution_count": 6,
     "metadata": {},
     "output_type": "execute_result"
    }
   ],
   "source": [
    "# Print the first five rows of the data\n",
    "my_data.head()"
   ]
  },
  {
   "cell_type": "markdown",
   "id": "f40460e8",
   "metadata": {
    "papermill": {
     "duration": 0.005139,
     "end_time": "2022-09-29T16:40:39.077091",
     "exception": false,
     "start_time": "2022-09-29T16:40:39.071952",
     "status": "completed"
    },
    "tags": []
   },
   "source": [
    "## Step 4: Visualize the data\n",
    "\n",
    "Use the next code cell to create a figure that tells a story behind your dataset.  You can use any chart type (_line chart, bar chart, heatmap, etc_) of your choosing!"
   ]
  },
  {
   "cell_type": "code",
   "execution_count": 7,
   "id": "cbc564e9",
   "metadata": {
    "execution": {
     "iopub.execute_input": "2022-09-29T16:40:39.089399Z",
     "iopub.status.busy": "2022-09-29T16:40:39.089005Z",
     "iopub.status.idle": "2022-09-29T16:40:39.741188Z",
     "shell.execute_reply": "2022-09-29T16:40:39.740192Z"
    },
    "papermill": {
     "duration": 0.661408,
     "end_time": "2022-09-29T16:40:39.743772",
     "exception": false,
     "start_time": "2022-09-29T16:40:39.082364",
     "status": "completed"
    },
    "tags": []
   },
   "outputs": [
    {
     "data": {
      "application/javascript": [
       "parent.postMessage({\"jupyterEvent\": \"custom.exercise_interaction\", \"data\": {\"outcomeType\": 1, \"valueTowardsCompletion\": 0.25, \"interactionType\": 1, \"questionType\": 2, \"questionId\": \"4_CreatePlot\", \"learnToolsVersion\": \"0.3.4\", \"failureMessage\": \"\", \"exceptionClass\": \"\", \"trace\": \"\"}}, \"*\")"
      ],
      "text/plain": [
       "<IPython.core.display.Javascript object>"
      ]
     },
     "metadata": {},
     "output_type": "display_data"
    },
    {
     "data": {
      "text/markdown": [
       "<span style=\"color:#33cc33\">Correct:</span> \n",
       "\n"
      ],
      "text/plain": [
       "Correct: \n"
      ]
     },
     "metadata": {},
     "output_type": "display_data"
    },
    {
     "data": {
      "image/png": "[encoded data removed]",
      "text/plain": [
       "<Figure size 1008x432 with 1 Axes>"
      ]
     },
     "metadata": {
      "needs_background": "light"
     },
     "output_type": "display_data"
    }
   ],
   "source": [
    "# Create a plot\n",
    "plt.figure(figsize=(14,6))\n",
    "plt.title(\"Different parameters for the 8 Planets of our Solar System\")\n",
    "sns.lineplot(data=my_data)\n",
    "#plt.xlabel(\"Country Names\")\n",
    "\n",
    "\n",
    "# Check that a figure appears below\n",
    "step_4.check()"
   ]
  },
  {
   "cell_type": "markdown",
   "id": "3f4b549a",
   "metadata": {
    "papermill": {
     "duration": 0.00645,
     "end_time": "2022-09-29T16:40:39.757114",
     "exception": false,
     "start_time": "2022-09-29T16:40:39.750664",
     "status": "completed"
    },
    "tags": []
   },
   "source": [
    "## Keep going\n",
    "\n",
    "Learn how to use your skills after completing the micro-course to create data visualizations in a **[final tutorial](https://www.kaggle.com/alexisbcook/creating-your-own-notebooks)**."
   ]
  },
  {
   "cell_type": "markdown",
   "id": "b75fd8f3",
   "metadata": {
    "papermill": {
     "duration": 0.00869,
     "end_time": "2022-09-29T16:40:39.773642",
     "exception": false,
     "start_time": "2022-09-29T16:40:39.764952",
     "status": "completed"
    },
    "tags": []
   },
   "source": [
    "---\n",
    "\n",
    "\n",
    "\n",
    "\n",
    "*Have questions or comments? Visit the [course discussion forum](https://www.kaggle.com/learn/data-visualization/discussion) to chat with other learners.*"
   ]
  }
 ],
 "metadata": {
  "kernelspec": {
   "display_name": "Python 3",
   "language": "python",
   "name": "python3"
  },
  "language_info": {
   "codemirror_mode": {
    "name": "ipython",
    "version": 3
   },
   "file_extension": ".py",
   "mimetype": "text/x-python",
   "name": "python",
   "nbconvert_exporter": "python",
   "pygments_lexer": "ipython3",
   "version": "3.7.12"
  },
  "papermill": {
   "default_parameters": {},
   "duration": 12.514519,
   "end_time": "2022-09-29T16:40:40.506339",
   "environment_variables": {},
   "exception": null,
   "input_path": "__notebook__.ipynb",
   "output_path": "__notebook__.ipynb",
   "parameters": {},
   "start_time": "2022-09-29T16:40:27.991820",
   "version": "2.3.4"
  }
 },
 "nbformat": 4,
 "nbformat_minor": 5
}
